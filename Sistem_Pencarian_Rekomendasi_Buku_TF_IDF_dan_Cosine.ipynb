{
  "cells": [
    {
      "cell_type": "markdown",
      "metadata": {
        "id": "view-in-github",
        "colab_type": "text"
      },
      "source": [
        "<a href=\"https://colab.research.google.com/github/Natasyaamb/-Cryptography-Implementasi-AES256-SHA256-dan-BPCS-/blob/main/Sistem_Pencarian_Rekomendasi_Buku_TF_IDF_dan_Cosine.ipynb\" target=\"_parent\"><img src=\"https://colab.research.google.com/assets/colab-badge.svg\" alt=\"Open In Colab\"/></a>"
      ]
    },
    {
      "cell_type": "code",
      "execution_count": null,
      "metadata": {
        "colab": {
          "base_uri": "https://localhost:8080/"
        },
        "id": "bwXq1Te1Lafq",
        "outputId": "afadc43f-57d6-4737-8eee-18fb5b3ec627"
      },
      "outputs": [
        {
          "output_type": "stream",
          "name": "stderr",
          "text": [
            "[nltk_data] Downloading package punkt to /root/nltk_data...\n",
            "[nltk_data]   Unzipping tokenizers/punkt.zip.\n",
            "[nltk_data] Downloading package stopwords to /root/nltk_data...\n",
            "[nltk_data]   Unzipping corpora/stopwords.zip.\n",
            "[nltk_data] Downloading package wordnet to /root/nltk_data...\n"
          ]
        },
        {
          "output_type": "stream",
          "name": "stdout",
          "text": [
            "0    old major old boar manor farm call animal farm...\n",
            "1    alex teenager living england lead gang nightly...\n",
            "2    text plague divided five part town oran thousa...\n",
            "3    argument enquiry proceeds series incremental s...\n",
            "4    novel posit space around milky way divided con...\n",
            "Name: processed_summary, dtype: object\n"
          ]
        }
      ],
      "source": [
        "import pandas as pd\n",
        "import numpy as np\n",
        "from nltk.corpus import stopwords\n",
        "from nltk.tokenize import word_tokenize\n",
        "from nltk.stem import WordNetLemmatizer\n",
        "from sklearn.feature_extraction.text import TfidfVectorizer\n",
        "from sklearn.cluster import KMeans\n",
        "from sklearn.metrics.pairwise import cosine_similarity\n",
        "from sklearn.metrics import precision_score, recall_score, f1_score\n",
        "from ipywidgets import widgets, Layout, VBox, Output\n",
        "from IPython.display import display\n",
        "\n",
        "# Pastikan untuk mendownload resources NLTK yang diperlukan\n",
        "import nltk\n",
        "nltk.download('punkt')\n",
        "nltk.download('stopwords')\n",
        "nltk.download('wordnet')\n",
        "\n",
        "# Membaca data dari Excel\n",
        "df = pd.read_excel('dataset_summary_book.xlsx')  # Pastikan nama file dan path sudah benar\n",
        "\n",
        "# Fungsi preprocessing\n",
        "def preprocess(text):\n",
        "    tokens = word_tokenize(text.lower())\n",
        "    tokens = [word for word in tokens if word.isalnum() and word not in stopwords.words('english')]\n",
        "    lemmatizer = WordNetLemmatizer()\n",
        "    tokens = [lemmatizer.lemmatize(word) for word in tokens]\n",
        "    return ' '.join(tokens)\n",
        "\n",
        "df['processed_summary'] = df['summary'].apply(preprocess)\n",
        "\n",
        "# Debug: Print a few processed summaries\n",
        "print(df['processed_summary'].head())"
      ]
    },
    {
      "cell_type": "code",
      "execution_count": null,
      "metadata": {
        "id": "lFL6JWucLh1r"
      },
      "outputs": [],
      "source": [
        "vectorizer = TfidfVectorizer()\n",
        "X = vectorizer.fit_transform(df['processed_summary'])"
      ]
    },
    {
      "cell_type": "code",
      "execution_count": null,
      "metadata": {
        "colab": {
          "base_uri": "https://localhost:8080/"
        },
        "id": "rkdByOggLlLw",
        "outputId": "f1b6d453-9cf1-457a-a054-0b43d13d2ea3"
      },
      "outputs": [
        {
          "output_type": "stream",
          "name": "stderr",
          "text": [
            "/usr/local/lib/python3.10/dist-packages/sklearn/cluster/_kmeans.py:870: FutureWarning: The default value of `n_init` will change from 10 to 'auto' in 1.4. Set the value of `n_init` explicitly to suppress the warning\n",
            "  warnings.warn(\n"
          ]
        }
      ],
      "source": [
        "num_clusters = 5  # Tentukan jumlah cluster yang sesuai\n",
        "kmeans = KMeans(n_clusters=num_clusters, random_state=42)\n",
        "kmeans.fit(X)\n",
        "\n",
        "df['cluster'] = kmeans.labels_"
      ]
    },
    {
      "cell_type": "code",
      "execution_count": null,
      "metadata": {
        "id": "xWIbrHKI2qan",
        "colab": {
          "base_uri": "https://localhost:8080/",
          "height": 790,
          "referenced_widgets": [
            "cb7ae19212e942d5b3ac4068faea65aa",
            "ea17801a3872467e87f23aec2589de7e",
            "c7428ff99d004d9bb60a35fbb8f23d7a",
            "cae2bb97f16444369a34b790ae5dbf8c",
            "73d562a7653a4476b957ddd4ecfd043d",
            "37fb0ec974604578a1fdf3048a3af14e",
            "048f926c21d4454eaec4e614c06510ea",
            "e61df23d1e6946f286659942b7ce7b3a",
            "c13ed2bea0514f7e97d39fdeb8174893",
            "ecc2163b8e5043828ef3309b0d10d16c"
          ]
        },
        "outputId": "94b1ab03-404b-466a-bde0-11e8c68a48a0"
      },
      "outputs": [
        {
          "output_type": "display_data",
          "data": {
            "text/plain": [
              "VBox(children=(Textarea(value='', description='Summary:', layout=Layout(height='100px', width='50%'), placehol…"
            ],
            "application/vnd.jupyter.widget-view+json": {
              "version_major": 2,
              "version_minor": 0,
              "model_id": "cb7ae19212e942d5b3ac4068faea65aa"
            }
          },
          "metadata": {}
        }
      ],
      "source": [
        "# Fungsi untuk menemukan label cluster yang relevan\n",
        "def find_relevant_cluster(user_input):\n",
        "    processed_input = preprocess(user_input)\n",
        "    input_vector = vectorizer.transform([processed_input])\n",
        "    cluster_label = kmeans.predict(input_vector)[0]\n",
        "    return cluster_label\n",
        "\n",
        "# Fungsi untuk menampilkan rekomendasi buku\n",
        "def recommend_books(user_input):\n",
        "    processed_input = preprocess(user_input)\n",
        "    input_vector = vectorizer.transform([processed_input])\n",
        "\n",
        "    # Calculate cosine similarity for all books\n",
        "    df['similarity'] = cosine_similarity(X, input_vector).flatten()\n",
        "\n",
        "    # Filter books with similarity > 0\n",
        "    relevant_books = df[df['similarity'] > 0].copy()\n",
        "\n",
        "    # Debugging\n",
        "    processed_input_debug = processed_input\n",
        "    input_vector_shape_debug = input_vector.shape\n",
        "    relevant_books_count_debug = len(relevant_books)\n",
        "\n",
        "    # Use processed summaries in the final recommendation display\n",
        "    relevant_books['summary'] = relevant_books['processed_summary']  # Show processed summary\n",
        "\n",
        "    # Tampilkan semua buku yang relevan\n",
        "    relevant_books_display = relevant_books[['title', 'book author', 'summary', 'publication date', 'genres']]\n",
        "\n",
        "    # Sort books by similarity and get top recommendations\n",
        "    top_recommendations = relevant_books.sort_values(by='similarity', ascending=False).head(5)\n",
        "\n",
        "    # Pastikan Anda menggunakan nama kolom yang benar seperti yang ada dalam output df.columns\n",
        "    return relevant_books_display, top_recommendations[['title', 'similarity']], processed_input_debug, input_vector_shape_debug, relevant_books_count_debug\n",
        "\n",
        "# Fungsi untuk menampilkan rekomendasi berdasarkan input sinopsis\n",
        "def get_book_recommendations(summary):\n",
        "    relevant_books, recommendations, processed_input, input_vector_shape, relevant_books_count = recommend_books(summary)\n",
        "    return relevant_books, recommendations.values.tolist(), processed_input, input_vector_shape, relevant_books_count\n",
        "\n",
        "# Membuat kolom input untuk sinopsis\n",
        "summary_input = widgets.Textarea(\n",
        "    value='',\n",
        "    placeholder='Masukkan sinopsis buku di sini...',\n",
        "    description='Summary:',\n",
        "    disabled=False,\n",
        "    layout=Layout(width='50%', height='100px')\n",
        ")\n",
        "\n",
        "# Membuat tombol untuk mendapatkan rekomendasi\n",
        "button = widgets.Button(description=\"Get Recommendations\")\n",
        "\n",
        "# Fungsi untuk menampilkan rekomendasi\n",
        "def on_button_click(b):\n",
        "    summary = summary_input.value\n",
        "    relevant_books, recommendations, processed_input, input_vector_shape, relevant_books_count = get_book_recommendations(summary)\n",
        "    with output:\n",
        "        output.clear_output()\n",
        "        print(f\"Processed user input: {processed_input}\")\n",
        "        print(f\"Relevant books found: {relevant_books_count}\")\n",
        "        print(\"\\nRelevant books found:\")\n",
        "        display(relevant_books)\n",
        "        print(\"\\nTop Book recommendations:\")\n",
        "        for title, similarity in recommendations:\n",
        "            print(f\"Title: {title}, Similarity: {similarity}\")\n",
        "\n",
        "# Menambahkan fungsi ke tombol\n",
        "button.on_click(on_button_click)\n",
        "\n",
        "# Menambahkan output\n",
        "output = Output()\n",
        "\n",
        "# Menampilkan kolom input dan tombol\n",
        "display(VBox([summary_input, button, output]))"
      ]
    },
    {
      "cell_type": "code",
      "execution_count": null,
      "metadata": {
        "colab": {
          "base_uri": "https://localhost:8080/"
        },
        "id": "wscoXzUK2_XV",
        "outputId": "7552a135-70ea-407b-80f4-bd0afd923aed"
      },
      "outputs": [
        {
          "output_type": "stream",
          "name": "stdout",
          "text": [
            "Precision: 1.0\n",
            "Recall: 1.0\n",
            "F1-score: 1.0\n"
          ]
        }
      ],
      "source": [
        "from sklearn.model_selection import train_test_split\n",
        "\n",
        "# Evaluasi sistem rekomendasi\n",
        "def evaluate_recommendation_system(test_data):\n",
        "    y_true = []\n",
        "    y_pred = []\n",
        "    for index, row in test_data.iterrows():\n",
        "        input_text = row['summary']\n",
        "        processed_input = preprocess(input_text)\n",
        "        input_vector = vectorizer.transform([processed_input])\n",
        "        df['similarity'] = cosine_similarity(X, input_vector).flatten()\n",
        "        recommendations = df[df['similarity'] > 0].sort_values(by='similarity', ascending=False).head(5)\n",
        "        recommended_titles = recommendations['title'].tolist()\n",
        "        if row['title'] in recommended_titles:  # Cek apakah buku ada di rekomendasi\n",
        "            y_pred.append(1)  # Book correctly recommended\n",
        "        else:\n",
        "            y_pred.append(0)  # Book not recommended\n",
        "        y_true.append(1)  # Actual book\n",
        "\n",
        "    precision = precision_score(y_true, y_pred)\n",
        "    recall = recall_score(y_true, y_pred)\n",
        "    f1 = f1_score(y_true, y_pred)\n",
        "    return precision, recall, f1\n",
        "\n",
        "# Split dataset into train and test sets\n",
        "X_train, X_test = train_test_split(df, test_size=0.2, random_state=42)\n",
        "\n",
        "precision, recall, f1 = evaluate_recommendation_system(X_test)\n",
        "print(\"Precision:\", precision)\n",
        "print(\"Recall:\", recall)\n",
        "print(\"F1-score:\", f1)"
      ]
    }
  ],
  "metadata": {
    "colab": {
      "provenance": [],
      "include_colab_link": true
    },
    "kernelspec": {
      "display_name": "Python 3",
      "name": "python3"
    },
    "language_info": {
      "name": "python"
    },
    "widgets": {
      "application/vnd.jupyter.widget-state+json": {
        "cb7ae19212e942d5b3ac4068faea65aa": {
          "model_module": "@jupyter-widgets/controls",
          "model_name": "VBoxModel",
          "model_module_version": "1.5.0",
          "state": {
            "_dom_classes": [],
            "_model_module": "@jupyter-widgets/controls",
            "_model_module_version": "1.5.0",
            "_model_name": "VBoxModel",
            "_view_count": null,
            "_view_module": "@jupyter-widgets/controls",
            "_view_module_version": "1.5.0",
            "_view_name": "VBoxView",
            "box_style": "",
            "children": [
              "IPY_MODEL_ea17801a3872467e87f23aec2589de7e",
              "IPY_MODEL_c7428ff99d004d9bb60a35fbb8f23d7a",
              "IPY_MODEL_cae2bb97f16444369a34b790ae5dbf8c"
            ],
            "layout": "IPY_MODEL_73d562a7653a4476b957ddd4ecfd043d"
          }
        },
        "ea17801a3872467e87f23aec2589de7e": {
          "model_module": "@jupyter-widgets/controls",
          "model_name": "TextareaModel",
          "model_module_version": "1.5.0",
          "state": {
            "_dom_classes": [],
            "_model_module": "@jupyter-widgets/controls",
            "_model_module_version": "1.5.0",
            "_model_name": "TextareaModel",
            "_view_count": null,
            "_view_module": "@jupyter-widgets/controls",
            "_view_module_version": "1.5.0",
            "_view_name": "TextareaView",
            "continuous_update": true,
            "description": "Summary:",
            "description_tooltip": null,
            "disabled": false,
            "layout": "IPY_MODEL_37fb0ec974604578a1fdf3048a3af14e",
            "placeholder": "Masukkan sinopsis buku di sini...",
            "rows": null,
            "style": "IPY_MODEL_048f926c21d4454eaec4e614c06510ea",
            "value": "plague"
          }
        },
        "c7428ff99d004d9bb60a35fbb8f23d7a": {
          "model_module": "@jupyter-widgets/controls",
          "model_name": "ButtonModel",
          "model_module_version": "1.5.0",
          "state": {
            "_dom_classes": [],
            "_model_module": "@jupyter-widgets/controls",
            "_model_module_version": "1.5.0",
            "_model_name": "ButtonModel",
            "_view_count": null,
            "_view_module": "@jupyter-widgets/controls",
            "_view_module_version": "1.5.0",
            "_view_name": "ButtonView",
            "button_style": "",
            "description": "Get Recommendations",
            "disabled": false,
            "icon": "",
            "layout": "IPY_MODEL_e61df23d1e6946f286659942b7ce7b3a",
            "style": "IPY_MODEL_c13ed2bea0514f7e97d39fdeb8174893",
            "tooltip": ""
          }
        },
        "cae2bb97f16444369a34b790ae5dbf8c": {
          "model_module": "@jupyter-widgets/output",
          "model_name": "OutputModel",
          "model_module_version": "1.0.0",
          "state": {
            "_dom_classes": [],
            "_model_module": "@jupyter-widgets/output",
            "_model_module_version": "1.0.0",
            "_model_name": "OutputModel",
            "_view_count": null,
            "_view_module": "@jupyter-widgets/output",
            "_view_module_version": "1.0.0",
            "_view_name": "OutputView",
            "layout": "IPY_MODEL_ecc2163b8e5043828ef3309b0d10d16c",
            "msg_id": "",
            "outputs": [
              {
                "output_type": "stream",
                "name": "stdout",
                "text": [
                  "Processed user input: plague\n",
                  "Relevant books found: 6\n",
                  "\n",
                  "Relevant books found:\n"
                ]
              },
              {
                "output_type": "display_data",
                "data": {
                  "text/plain": "                  title         book author  \\\n2            The Plague        Albert Camus   \n12      Book of Numbers                 NaN   \n32               Exodus                 NaN   \n80          The Shining        Stephen King   \n139  The Puppet Masters  Robert A. Heinlein   \n158        The Last Man        Mary Shelley   \n\n                                               summary publication date  \\\n2    text plague divided five part town oran thousa...             1947   \n12   god order moses wilderness sinai number able b...              NaN   \n32   egypt pharaoh fearful israelite number order n...              NaN   \n80   1976 jack torrance aspiring writer attempting ...          1977-01   \n139  sam agent section united state government inte...              NaN   \n158  mary shelley state introduction 1818 discovere...          1826-02   \n\n                                                genres  \n2    Existentialism, Fiction, Absurdist fiction, Novel  \n12                                                 NaN  \n32                                      Religious text  \n80   Gothic fiction, Children's literature, Horror,...  \n139      Science Fiction, Speculative fiction, Fiction  \n158  Catastrophic literature, Apocalyptic and post-...  ",
                  "text/html": "\n  <div id=\"df-e2ac25a7-1bd2-4f2a-8fb3-f3fb94175357\" class=\"colab-df-container\">\n    <div>\n<style scoped>\n    .dataframe tbody tr th:only-of-type {\n        vertical-align: middle;\n    }\n\n    .dataframe tbody tr th {\n        vertical-align: top;\n    }\n\n    .dataframe thead th {\n        text-align: right;\n    }\n</style>\n<table border=\"1\" class=\"dataframe\">\n  <thead>\n    <tr style=\"text-align: right;\">\n      <th></th>\n      <th>title</th>\n      <th>book author</th>\n      <th>summary</th>\n      <th>publication date</th>\n      <th>genres</th>\n    </tr>\n  </thead>\n  <tbody>\n    <tr>\n      <th>2</th>\n      <td>The Plague</td>\n      <td>Albert Camus</td>\n      <td>text plague divided five part town oran thousa...</td>\n      <td>1947</td>\n      <td>Existentialism, Fiction, Absurdist fiction, Novel</td>\n    </tr>\n    <tr>\n      <th>12</th>\n      <td>Book of Numbers</td>\n      <td>NaN</td>\n      <td>god order moses wilderness sinai number able b...</td>\n      <td>NaN</td>\n      <td>NaN</td>\n    </tr>\n    <tr>\n      <th>32</th>\n      <td>Exodus</td>\n      <td>NaN</td>\n      <td>egypt pharaoh fearful israelite number order n...</td>\n      <td>NaN</td>\n      <td>Religious text</td>\n    </tr>\n    <tr>\n      <th>80</th>\n      <td>The Shining</td>\n      <td>Stephen King</td>\n      <td>1976 jack torrance aspiring writer attempting ...</td>\n      <td>1977-01</td>\n      <td>Gothic fiction, Children's literature, Horror,...</td>\n    </tr>\n    <tr>\n      <th>139</th>\n      <td>The Puppet Masters</td>\n      <td>Robert A. Heinlein</td>\n      <td>sam agent section united state government inte...</td>\n      <td>NaN</td>\n      <td>Science Fiction, Speculative fiction, Fiction</td>\n    </tr>\n    <tr>\n      <th>158</th>\n      <td>The Last Man</td>\n      <td>Mary Shelley</td>\n      <td>mary shelley state introduction 1818 discovere...</td>\n      <td>1826-02</td>\n      <td>Catastrophic literature, Apocalyptic and post-...</td>\n    </tr>\n  </tbody>\n</table>\n</div>\n    <div class=\"colab-df-buttons\">\n\n  <div class=\"colab-df-container\">\n    <button class=\"colab-df-convert\" onclick=\"convertToInteractive('df-e2ac25a7-1bd2-4f2a-8fb3-f3fb94175357')\"\n            title=\"Convert this dataframe to an interactive table.\"\n            style=\"display:none;\">\n\n  <svg xmlns=\"http://www.w3.org/2000/svg\" height=\"24px\" viewBox=\"0 -960 960 960\">\n    <path d=\"M120-120v-720h720v720H120Zm60-500h600v-160H180v160Zm220 220h160v-160H400v160Zm0 220h160v-160H400v160ZM180-400h160v-160H180v160Zm440 0h160v-160H620v160ZM180-180h160v-160H180v160Zm440 0h160v-160H620v160Z\"/>\n  </svg>\n    </button>\n\n  <style>\n    .colab-df-container {\n      display:flex;\n      gap: 12px;\n    }\n\n    .colab-df-convert {\n      background-color: #E8F0FE;\n      border: none;\n      border-radius: 50%;\n      cursor: pointer;\n      display: none;\n      fill: #1967D2;\n      height: 32px;\n      padding: 0 0 0 0;\n      width: 32px;\n    }\n\n    .colab-df-convert:hover {\n      background-color: #E2EBFA;\n      box-shadow: 0px 1px 2px rgba(60, 64, 67, 0.3), 0px 1px 3px 1px rgba(60, 64, 67, 0.15);\n      fill: #174EA6;\n    }\n\n    .colab-df-buttons div {\n      margin-bottom: 4px;\n    }\n\n    [theme=dark] .colab-df-convert {\n      background-color: #3B4455;\n      fill: #D2E3FC;\n    }\n\n    [theme=dark] .colab-df-convert:hover {\n      background-color: #434B5C;\n      box-shadow: 0px 1px 3px 1px rgba(0, 0, 0, 0.15);\n      filter: drop-shadow(0px 1px 2px rgba(0, 0, 0, 0.3));\n      fill: #FFFFFF;\n    }\n  </style>\n\n    <script>\n      const buttonEl =\n        document.querySelector('#df-e2ac25a7-1bd2-4f2a-8fb3-f3fb94175357 button.colab-df-convert');\n      buttonEl.style.display =\n        google.colab.kernel.accessAllowed ? 'block' : 'none';\n\n      async function convertToInteractive(key) {\n        const element = document.querySelector('#df-e2ac25a7-1bd2-4f2a-8fb3-f3fb94175357');\n        const dataTable =\n          await google.colab.kernel.invokeFunction('convertToInteractive',\n                                                    [key], {});\n        if (!dataTable) return;\n\n        const docLinkHtml = 'Like what you see? Visit the ' +\n          '<a target=\"_blank\" href=https://colab.research.google.com/notebooks/data_table.ipynb>data table notebook</a>'\n          + ' to learn more about interactive tables.';\n        element.innerHTML = '';\n        dataTable['output_type'] = 'display_data';\n        await google.colab.output.renderOutput(dataTable, element);\n        const docLink = document.createElement('div');\n        docLink.innerHTML = docLinkHtml;\n        element.appendChild(docLink);\n      }\n    </script>\n  </div>\n\n\n<div id=\"df-01ddf032-91f3-4b7b-84c8-302a68b290d1\">\n  <button class=\"colab-df-quickchart\" onclick=\"quickchart('df-01ddf032-91f3-4b7b-84c8-302a68b290d1')\"\n            title=\"Suggest charts\"\n            style=\"display:none;\">\n\n<svg xmlns=\"http://www.w3.org/2000/svg\" height=\"24px\"viewBox=\"0 0 24 24\"\n     width=\"24px\">\n    <g>\n        <path d=\"M19 3H5c-1.1 0-2 .9-2 2v14c0 1.1.9 2 2 2h14c1.1 0 2-.9 2-2V5c0-1.1-.9-2-2-2zM9 17H7v-7h2v7zm4 0h-2V7h2v10zm4 0h-2v-4h2v4z\"/>\n    </g>\n</svg>\n  </button>\n\n<style>\n  .colab-df-quickchart {\n      --bg-color: #E8F0FE;\n      --fill-color: #1967D2;\n      --hover-bg-color: #E2EBFA;\n      --hover-fill-color: #174EA6;\n      --disabled-fill-color: #AAA;\n      --disabled-bg-color: #DDD;\n  }\n\n  [theme=dark] .colab-df-quickchart {\n      --bg-color: #3B4455;\n      --fill-color: #D2E3FC;\n      --hover-bg-color: #434B5C;\n      --hover-fill-color: #FFFFFF;\n      --disabled-bg-color: #3B4455;\n      --disabled-fill-color: #666;\n  }\n\n  .colab-df-quickchart {\n    background-color: var(--bg-color);\n    border: none;\n    border-radius: 50%;\n    cursor: pointer;\n    display: none;\n    fill: var(--fill-color);\n    height: 32px;\n    padding: 0;\n    width: 32px;\n  }\n\n  .colab-df-quickchart:hover {\n    background-color: var(--hover-bg-color);\n    box-shadow: 0 1px 2px rgba(60, 64, 67, 0.3), 0 1px 3px 1px rgba(60, 64, 67, 0.15);\n    fill: var(--button-hover-fill-color);\n  }\n\n  .colab-df-quickchart-complete:disabled,\n  .colab-df-quickchart-complete:disabled:hover {\n    background-color: var(--disabled-bg-color);\n    fill: var(--disabled-fill-color);\n    box-shadow: none;\n  }\n\n  .colab-df-spinner {\n    border: 2px solid var(--fill-color);\n    border-color: transparent;\n    border-bottom-color: var(--fill-color);\n    animation:\n      spin 1s steps(1) infinite;\n  }\n\n  @keyframes spin {\n    0% {\n      border-color: transparent;\n      border-bottom-color: var(--fill-color);\n      border-left-color: var(--fill-color);\n    }\n    20% {\n      border-color: transparent;\n      border-left-color: var(--fill-color);\n      border-top-color: var(--fill-color);\n    }\n    30% {\n      border-color: transparent;\n      border-left-color: var(--fill-color);\n      border-top-color: var(--fill-color);\n      border-right-color: var(--fill-color);\n    }\n    40% {\n      border-color: transparent;\n      border-right-color: var(--fill-color);\n      border-top-color: var(--fill-color);\n    }\n    60% {\n      border-color: transparent;\n      border-right-color: var(--fill-color);\n    }\n    80% {\n      border-color: transparent;\n      border-right-color: var(--fill-color);\n      border-bottom-color: var(--fill-color);\n    }\n    90% {\n      border-color: transparent;\n      border-bottom-color: var(--fill-color);\n    }\n  }\n</style>\n\n  <script>\n    async function quickchart(key) {\n      const quickchartButtonEl =\n        document.querySelector('#' + key + ' button');\n      quickchartButtonEl.disabled = true;  // To prevent multiple clicks.\n      quickchartButtonEl.classList.add('colab-df-spinner');\n      try {\n        const charts = await google.colab.kernel.invokeFunction(\n            'suggestCharts', [key], {});\n      } catch (error) {\n        console.error('Error during call to suggestCharts:', error);\n      }\n      quickchartButtonEl.classList.remove('colab-df-spinner');\n      quickchartButtonEl.classList.add('colab-df-quickchart-complete');\n    }\n    (() => {\n      let quickchartButtonEl =\n        document.querySelector('#df-01ddf032-91f3-4b7b-84c8-302a68b290d1 button');\n      quickchartButtonEl.style.display =\n        google.colab.kernel.accessAllowed ? 'block' : 'none';\n    })();\n  </script>\n</div>\n    </div>\n  </div>\n",
                  "application/vnd.google.colaboratory.intrinsic+json": {
                    "type": "dataframe",
                    "repr_error": "0"
                  }
                },
                "metadata": {}
              },
              {
                "output_type": "stream",
                "name": "stdout",
                "text": [
                  "\n",
                  "Top Book recommendations:\n",
                  "Title: The Plague, Similarity: 0.4801604849585939\n",
                  "Title: The Last Man, Similarity: 0.12092072889616685\n",
                  "Title: Exodus, Similarity: 0.06002448488473162\n",
                  "Title: Book of Numbers, Similarity: 0.030615802728332822\n",
                  "Title: The Shining, Similarity: 0.01958953582158783\n"
                ]
              }
            ]
          }
        },
        "73d562a7653a4476b957ddd4ecfd043d": {
          "model_module": "@jupyter-widgets/base",
          "model_name": "LayoutModel",
          "model_module_version": "1.2.0",
          "state": {
            "_model_module": "@jupyter-widgets/base",
            "_model_module_version": "1.2.0",
            "_model_name": "LayoutModel",
            "_view_count": null,
            "_view_module": "@jupyter-widgets/base",
            "_view_module_version": "1.2.0",
            "_view_name": "LayoutView",
            "align_content": null,
            "align_items": null,
            "align_self": null,
            "border": null,
            "bottom": null,
            "display": null,
            "flex": null,
            "flex_flow": null,
            "grid_area": null,
            "grid_auto_columns": null,
            "grid_auto_flow": null,
            "grid_auto_rows": null,
            "grid_column": null,
            "grid_gap": null,
            "grid_row": null,
            "grid_template_areas": null,
            "grid_template_columns": null,
            "grid_template_rows": null,
            "height": null,
            "justify_content": null,
            "justify_items": null,
            "left": null,
            "margin": null,
            "max_height": null,
            "max_width": null,
            "min_height": null,
            "min_width": null,
            "object_fit": null,
            "object_position": null,
            "order": null,
            "overflow": null,
            "overflow_x": null,
            "overflow_y": null,
            "padding": null,
            "right": null,
            "top": null,
            "visibility": null,
            "width": null
          }
        },
        "37fb0ec974604578a1fdf3048a3af14e": {
          "model_module": "@jupyter-widgets/base",
          "model_name": "LayoutModel",
          "model_module_version": "1.2.0",
          "state": {
            "_model_module": "@jupyter-widgets/base",
            "_model_module_version": "1.2.0",
            "_model_name": "LayoutModel",
            "_view_count": null,
            "_view_module": "@jupyter-widgets/base",
            "_view_module_version": "1.2.0",
            "_view_name": "LayoutView",
            "align_content": null,
            "align_items": null,
            "align_self": null,
            "border": null,
            "bottom": null,
            "display": null,
            "flex": null,
            "flex_flow": null,
            "grid_area": null,
            "grid_auto_columns": null,
            "grid_auto_flow": null,
            "grid_auto_rows": null,
            "grid_column": null,
            "grid_gap": null,
            "grid_row": null,
            "grid_template_areas": null,
            "grid_template_columns": null,
            "grid_template_rows": null,
            "height": "100px",
            "justify_content": null,
            "justify_items": null,
            "left": null,
            "margin": null,
            "max_height": null,
            "max_width": null,
            "min_height": null,
            "min_width": null,
            "object_fit": null,
            "object_position": null,
            "order": null,
            "overflow": null,
            "overflow_x": null,
            "overflow_y": null,
            "padding": null,
            "right": null,
            "top": null,
            "visibility": null,
            "width": "50%"
          }
        },
        "048f926c21d4454eaec4e614c06510ea": {
          "model_module": "@jupyter-widgets/controls",
          "model_name": "DescriptionStyleModel",
          "model_module_version": "1.5.0",
          "state": {
            "_model_module": "@jupyter-widgets/controls",
            "_model_module_version": "1.5.0",
            "_model_name": "DescriptionStyleModel",
            "_view_count": null,
            "_view_module": "@jupyter-widgets/base",
            "_view_module_version": "1.2.0",
            "_view_name": "StyleView",
            "description_width": ""
          }
        },
        "e61df23d1e6946f286659942b7ce7b3a": {
          "model_module": "@jupyter-widgets/base",
          "model_name": "LayoutModel",
          "model_module_version": "1.2.0",
          "state": {
            "_model_module": "@jupyter-widgets/base",
            "_model_module_version": "1.2.0",
            "_model_name": "LayoutModel",
            "_view_count": null,
            "_view_module": "@jupyter-widgets/base",
            "_view_module_version": "1.2.0",
            "_view_name": "LayoutView",
            "align_content": null,
            "align_items": null,
            "align_self": null,
            "border": null,
            "bottom": null,
            "display": null,
            "flex": null,
            "flex_flow": null,
            "grid_area": null,
            "grid_auto_columns": null,
            "grid_auto_flow": null,
            "grid_auto_rows": null,
            "grid_column": null,
            "grid_gap": null,
            "grid_row": null,
            "grid_template_areas": null,
            "grid_template_columns": null,
            "grid_template_rows": null,
            "height": null,
            "justify_content": null,
            "justify_items": null,
            "left": null,
            "margin": null,
            "max_height": null,
            "max_width": null,
            "min_height": null,
            "min_width": null,
            "object_fit": null,
            "object_position": null,
            "order": null,
            "overflow": null,
            "overflow_x": null,
            "overflow_y": null,
            "padding": null,
            "right": null,
            "top": null,
            "visibility": null,
            "width": null
          }
        },
        "c13ed2bea0514f7e97d39fdeb8174893": {
          "model_module": "@jupyter-widgets/controls",
          "model_name": "ButtonStyleModel",
          "model_module_version": "1.5.0",
          "state": {
            "_model_module": "@jupyter-widgets/controls",
            "_model_module_version": "1.5.0",
            "_model_name": "ButtonStyleModel",
            "_view_count": null,
            "_view_module": "@jupyter-widgets/base",
            "_view_module_version": "1.2.0",
            "_view_name": "StyleView",
            "button_color": null,
            "font_weight": ""
          }
        },
        "ecc2163b8e5043828ef3309b0d10d16c": {
          "model_module": "@jupyter-widgets/base",
          "model_name": "LayoutModel",
          "model_module_version": "1.2.0",
          "state": {
            "_model_module": "@jupyter-widgets/base",
            "_model_module_version": "1.2.0",
            "_model_name": "LayoutModel",
            "_view_count": null,
            "_view_module": "@jupyter-widgets/base",
            "_view_module_version": "1.2.0",
            "_view_name": "LayoutView",
            "align_content": null,
            "align_items": null,
            "align_self": null,
            "border": null,
            "bottom": null,
            "display": null,
            "flex": null,
            "flex_flow": null,
            "grid_area": null,
            "grid_auto_columns": null,
            "grid_auto_flow": null,
            "grid_auto_rows": null,
            "grid_column": null,
            "grid_gap": null,
            "grid_row": null,
            "grid_template_areas": null,
            "grid_template_columns": null,
            "grid_template_rows": null,
            "height": null,
            "justify_content": null,
            "justify_items": null,
            "left": null,
            "margin": null,
            "max_height": null,
            "max_width": null,
            "min_height": null,
            "min_width": null,
            "object_fit": null,
            "object_position": null,
            "order": null,
            "overflow": null,
            "overflow_x": null,
            "overflow_y": null,
            "padding": null,
            "right": null,
            "top": null,
            "visibility": null,
            "width": null
          }
        }
      }
    }
  },
  "nbformat": 4,
  "nbformat_minor": 0
}